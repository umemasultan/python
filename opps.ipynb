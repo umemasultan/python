{
 "cells": [
  {
   "cell_type": "code",
   "execution_count": 1,
   "metadata": {},
   "outputs": [
    {
     "name": "stdout",
     "output_type": "stream",
     "text": [
      "4\n",
      "<class '__main__.car'>\n",
      "blue\n",
      "medium\n",
      "180\n",
      "black or white colour\n",
      "in outside of the door\n",
      "almost three floors\n"
     ]
    }
   ],
   "source": [
    "#opps\n",
    "\n",
    "\n",
    "class car:\n",
    "    wheels=4\n",
    "    def __init__(self ,colour , size , speed):\n",
    "        self.colour=colour\n",
    "        self.size=size\n",
    "        self.speed=speed\n",
    "car1=car(\"blue\",\"medium\",180)\n",
    "print(car1.wheels)\n",
    "print(car)\n",
    "print(car1.colour)\n",
    "print(car1.size)\n",
    "print(car1.speed)\n",
    "\n",
    "\n",
    "\n",
    "\n",
    "class house:\n",
    "    def __init__(self, rooms ,kitchen,flors,):\n",
    "        self.rooms=rooms\n",
    "        self.kitchen=kitchen\n",
    "        self.flors=flors\n",
    "        \n",
    "struc=house(\"black or white colour\",\"in outside of the door\",\"almost three floors\")\n",
    "print(struc.rooms)\n",
    "print(struc.kitchen)\n",
    "print(struc.flors)"
   ]
  },
  {
   "cell_type": "code",
   "execution_count": 1,
   "metadata": {},
   "outputs": [
    {
     "name": "stdout",
     "output_type": "stream",
     "text": [
      "12\n",
      "35\n",
      "0.7142857142857143\n",
      "18\n",
      "hello world how are you today i know new something about python \n"
     ]
    }
   ],
   "source": [
    "# lambda function\n",
    "\n",
    "# in integer form//\n",
    "\n",
    "add =  lambda  a, b :a + b\n",
    "print(add(5,7))\n",
    "\n",
    "\n",
    "num =  lambda  a, b :a * b\n",
    "print(num(5,7))\n",
    "\n",
    "\n",
    "num =  lambda  a, b :a / b\n",
    "print(num(5,7))\n",
    "\n",
    "\n",
    "num =  lambda  a, b :a - b\n",
    "print(num(55,37))\n",
    "\n",
    "\n",
    "# //in string form \n",
    "\n",
    "greet=lambda :\"hello world how are you today i know new something about python \"\n",
    "print(greet())"
   ]
  }
 ],
 "metadata": {
  "kernelspec": {
   "display_name": "base",
   "language": "python",
   "name": "python3"
  },
  "language_info": {
   "codemirror_mode": {
    "name": "ipython",
    "version": 3
   },
   "file_extension": ".py",
   "mimetype": "text/x-python",
   "name": "python",
   "nbconvert_exporter": "python",
   "pygments_lexer": "ipython3",
   "version": "3.12.7"
  }
 },
 "nbformat": 4,
 "nbformat_minor": 2
}
